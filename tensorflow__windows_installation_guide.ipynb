{
 "cells": [
  {
   "attachments": {},
   "cell_type": "markdown",
   "metadata": {},
   "source": [
    "# Como Instalar TensorFlow con GPU para Windows 10/11\n",
    "\n",
    "Fecha última Actualización: 31 de mayo del 2023\n",
    "\n",
    "*Una guía en español*\n",
    "<!-- *\"Una bella presentación a través de las montañas de la locura y los valles de la desesperación\"* -->\n"
   ]
  },
  {
   "attachments": {},
   "cell_type": "markdown",
   "metadata": {
    "slideshow": {
     "slide_type": "slide"
    }
   },
   "source": [
    "----\n",
    "\n",
    "## Introducción\n",
    "\n",
    "----\n",
    "\n",
    "Este recurso busca facilitar el proceso de uso de GPU en TensorFlow para usuarios de Windows (probablemente el segundo problema más difícil en aprendizaje automático). En este se detallan los requerimientos tanto como pasos necesarios para garantizar el correcto uso de GPU por TensorFlow en un entorno local de Windows.\n",
    "\n",
    "Este recurso fue generado como material de apoyo para el ramo *\"INTRODUCCIÓN A LAS REDES NEURONALES ARTIFICIALES AND DEEP LEARNING\"* dictado por el profesor Ricardo Ñanculef en la Universidad Técnica Federico Santa María."
   ]
  },
  {
   "attachments": {},
   "cell_type": "markdown",
   "metadata": {},
   "source": [
    "----\n",
    "\n",
    "## Requerimientos\n",
    "\n",
    "----\n",
    "\n",
    "A continuación se detallan algunos de los paquetes que es necesario tener previamente instalados en Windows para el correcto funcionamiento del proceso de instalación detallado.\n",
    "\n",
    "* [pyenv](https://github.com/pyenv/pyenv) (o cualquier otra herramienta de manejo de ambientes de Python)\n",
    "* GPU Nvidia\n",
    "* Cuenta de Microsoft Online\n",
    "* Cuenta de NVIDIA Developer"
   ]
  },
  {
   "attachments": {},
   "cell_type": "markdown",
   "metadata": {},
   "source": [
    "----\n",
    "\n",
    "## Instalación\n",
    "\n",
    "----\n",
    "\n",
    "Para la realización de la instalación se trabajará en un entorno con los siguientes detalles técnicos (sin TensorFlow instalado):\n",
    "\n",
    "* OS: Windows 10\n",
    "* Python: 3.8.10\n",
    "* TensorFlow: 2.10.0 (versión más reciente para Windows al momento de realizar el recurso)"
   ]
  },
  {
   "attachments": {},
   "cell_type": "markdown",
   "metadata": {},
   "source": [
    "### 1. Encontrar la versión de TF a instalar y sus drivers\n",
    "\n",
    "----\n",
    "\n",
    "El primer paso consiste en ir a este [link](https://www.tensorflow.org/install/source_windows#gpu) y decidir la versión de TensorFlow a instalar. Dependiendo de que versión se haya elegido se debe determinar la versión de drivers de CUDA y otros softwares compatibles.\n",
    "\n",
    "Por fines pedagógicos se utilizará la versión 2.10.0 de TensorFlow con el fin de hacer más ilustrativo el manejo y uso de versiones.\n",
    "Del link indicado se extrae la siguiente tabla:\n",
    "\n",
    "![Tabla versiones TensorFlow y librerías necesarias](images/tensorflow_table.png \"Tabla versiones TensorFlow y librerías necesarias\")\n",
    "\n",
    "*Tabla versiones TensorFlow y librerías necesarias*\n",
    "\n",
    "De la tabla observamos que para emplear TensorFlow 2.10.0 con GPU necesitamos una instalación de Python que esté entre las versiones 3.7 y 3.10, de compilador es necesario instalar visual studio community version 2019 (incluye las build tools necesarias), cUDNN 8.1 y CUDA 11.2."
   ]
  },
  {
   "attachments": {},
   "cell_type": "markdown",
   "metadata": {},
   "source": [
    "### 2. Instalar Microsoft Visual Studio\n",
    "\n",
    "----\n",
    "\n",
    "Para el segundo paso es necesario instalar *Microsoft Visual Studio*. Nótese que *Microsoft Visual Studio* y *Visual Studio Code* son herramientas distintas. **En caso de tener *Microsoft Visual Studio 2022* previamente instalado, desinstálelo antes de continuar con los siguientes pasos.**\n",
    "\n",
    "Ingrese al siguiente [link](https://visualstudio.microsoft.com/es/vs/older-downloads) y descargue *Microsoft Visual Studio 2019 community edition*, para esto es necesario tener una cuenta en Microsoft (alumnos y funcionarios de la Universidad Técnica Federico Santa María tienen cuenta ya creada, solo deben apretar descargar y realizar la autorización de permisos).\n",
    "\n",
    "![Descarga *Microsoft Visual Studio 2019*](images/microsoft_visual_studio_2019_download.png \"Descarga Microsoft Visual Studio 2019\")\n",
    "*Descarga Microsoft Visual Studio 2019*\n",
    "\n",
    "Al apretar descarga se debiese redireccionar a la siguiente página, donde se debe descargar *Visual Studio Community 2019 (version 16.11)* (en caso de estar en un sistema de 32-bit cambiar de x64 a x86):\n",
    "\n",
    "![Descarga *Microsoft Visual Studio Community 2019 (version 16.11)*](images/microsoft_visual_studio_2019_community_download.png \"Descarga Microsoft Visual Studio Community 2019 (version 16.11)\")\n",
    "*Descarga Microsoft Visual Studio Community 2019 (version 16.11)*\n",
    "\n",
    "Corra el ejecutable descargado y espere a que termine la instalación. El instalador le pedirá elegir el workload a instalar, no es necesario elegir ninguno por lo cual simplemente instale sin workload y haga clic en continuar. Con la instalación finalizada le pedirá ingresar a su cuenta, es paso no es necesario por lo cual puede saltarse este paso."
   ]
  },
  {
   "attachments": {},
   "cell_type": "markdown",
   "metadata": {},
   "source": [
    "### 3. Instalar NVIDIA CUDA toolkit\n",
    "\n",
    "----\n",
    "\n",
    "El NVIDIA CUDA toolkit contiene los drivers para las GPU de NVIDIA. Dependiendo del sistema en el que se esté trabajando estos pueden o no estar previamente instalados, si lo están es necesario chequear la compatibilidad con TensorFlow. Esta guía asume que no están instalados, sin embargo, en caso de estarlo se puede seguir el tutorial y no debiese evidenciar problemas.\n",
    "\n",
    "Para correcta ejecución de GPU en TensorFlow es necesario primero eliminar **TODAS** las versiones de CUDA instaladas, para esto vaya a Settings en Windows e ingrese a *\"Apps & Features\"*, en buscar introduzca \"nvidia cuda\" y desinstale **TODAS** las aplicaciones que tengan \"nvidia cuda\" en su nombre. Luego vaya a `Local Disk (C:) > Program Files > NVIDIA GPU Computing Toolkit > CUDA`, dentro de esta carpeta debiesen estar todas las versiones distintas de cuda previamente instaladas, elimine **TODOS** los contenidos de la carpeta `CUDA`.\n",
    "\n",
    "Ingrese al siguiente [link](https://developer.nvidia.com/cuda-toolkit-archive) y descargue la versión compatible, para nuestro caso es *CUDA Toolkit 11.2.0* (todas las versiones 11.2.x debiesen funcionar correctamente), al ingresar al link debe ver algo como esto:\n",
    "\n",
    "![Versiones *CUDA Toolkit*](images/CUDA_versions.png \"Versiones CUDA Toolkit\")\n",
    "\n",
    "*Versiones CUDA Toolkit*\n",
    "\n",
    "En esta página buscamos las versiones compatibles y luego hacemos clic en alguna de ellas y no redireccionará a otra página. Aquí elegimos el sistema operativo sobre el que trabajaremos (en nuestro caso Windows, particularmente Windows 10) y descargamos el instalado, puede ser la versión de red (más liviana) o el exe (más pesado, pero viene con todo lo necesario para la instalación), en este caso seleccionamos el exe y hacemos clic en descargar, como se puede observar en la imagen a continuación:\n",
    "\n",
    "![Download *CUDA Toolkit 11.2.0*](images/CUDA_toolkit_download.png \"Download CUDA Toolkit 11.2.0\")\n",
    "\n",
    "*Download CUDA Toolkit 11.2.0*\n",
    "\n",
    "A continuación ejecute el exe y siga los pasos descritos por el instalador.\n",
    "\n",
    "----\n",
    "\n",
    "#### **Errores Comunes**\n",
    "\n",
    "----\n",
    "\n",
    "**ERROR** Frameview ya instalado:\n",
    "\n",
    "![Frameview Error](images/CUDA_error_frameview.png \"Frameview Error\")\n",
    "\n",
    "**Solución** Frameview: ir a Settings en Windows, ingrese a *\"Apps & Features\"*, en buscar introduzca \"nvidia frameview\" y desintale **TODAS** las aplicaciones que tengan \"nvidia frameview\" en su nombre.\n",
    "\n",
    "**ERROR** No se encontraron versiones compatibles de Visual Studio:\n",
    "\n",
    "![Visual Studio Error](images/CUDA_error_visual_studio.png \"Visual Error\")\n",
    "\n",
    "**Solución** Visual Studio: ir a Settings en windows, ingrese a *\"Apps & Features\"*, en buscar introduzca \"visual studio\" y verifique que tiene instalada la versión del **2019**, desinstale todas las versiones de visual studio instaladas y repita el paso **2**."
   ]
  },
  {
   "attachments": {},
   "cell_type": "markdown",
   "metadata": {},
   "source": [
    "### 4. Instalar cuDNN\n",
    "\n",
    "----\n",
    "\n",
    "Para TensorFlow 2.10.0, es necesario instalar cuDNN 8.1, ingrese al siguiente [link](https://developer.nvidia.com/cudnn) y haga clic en descargar:\n",
    "\n",
    "![Download cuDNN](images/cudnn_download.png \"Download cuDNN\")\n",
    "\n",
    "Le pedirá crear una cuenta de desarrollador:\n",
    "\n",
    "![NVIDIA Developer account](images/cudnn_developer_account.png \"NVIDIA Developer account\")\n",
    "\n",
    "Si no tiene una cuenta previamente creada, haga clic en \"join\", ingrese su email y llene el formulario, tras lo cual recibirá su cuenta de desarrollador (Esta es  **GRATUITA**). Luego vuelva a la página de descarga de [cuDNN](https://developer.nvidia.com/rdp/cudnn-download) donde debiese aparecer lo siguiente:\n",
    "\n",
    "![Download cuDNN 2](images/cudnn_download_2.png \"Download cuDNN step 2\")\n",
    "\n",
    "En nuestro caso necesitamos la versión 8.1.0 para *CUDA 11.2* por lo cual debe hacer clic en [Archived cuDNN Releases](https://developer.nvidia.com/rdp/cudnn-archive) (también puede instalar cualquiera de las versiones compatibles con *CUDA 11.x* y no debiese tener problemas):\n",
    "\n",
    "![Download *cuDNN 8.1.0*](images/cudnn_archived_version_download.png \"Download cuDNN 8.1.0\")\n",
    "\n",
    "Al hacer clic nos muestra lo siguiente y debemos descargar la versión para Windows:\n",
    "\n",
    "![Download *cuDNN 8.1.0* windows version](images/cudnn_archived_version_windows_download.png \"Download cuDNN 8.1.0 Windows version\")\n",
    "\n",
    "Esto nos debiese descargar una carpeta zip la cual descomprimimos y nuestra carpeta de descargas debiese verse así:\n",
    "\n",
    "![Download *cuDNN 8.1.0* zip](images/cudnn_zip.png \"Download cuDNN 8.1.0 zip\")\n",
    "\n",
    "Ingresamos a la carpeta `cuda`, copiamos las tres carpetas dentro de ella (`bin`,`include`,`lib`) con todos sus contenidos y las pegamos en `C:\\Program Files\\NVIDIA GPU Computing Toolkit\\CUDA\\v11.2`.\n",
    "\n",
    "Windows Explorer señalará que estas carpetas ya existen, por lo cual debemos escoger la opción *Reemplazar archivos de destino* y seleccionamos esto para todos los archivos."
   ]
  },
  {
   "attachments": {},
   "cell_type": "markdown",
   "metadata": {},
   "source": [
    "### 5. Añadir CUDA toolkit al PATH de usuario\n",
    "\n",
    "----\n",
    "\n",
    "Para el funcionamiento correcto de CUDA con TensorFlow necesitamos añadir acceso a esta carpeta mediante las variables de ambiente. En la dirección `C:\\Program Files\\NVIDIA GPU Computing Toolkit\\CUDA\\v11.2`, hay una carpeta denominada `bin`, ingrese a esta, copie y guarde la dirección:\n",
    "\n",
    "![Path bin](images/bin_path.png \"Path bin\")\n",
    "\n",
    "Ahora en `C:\\Program Files\\NVIDIA GPU Computing Toolkit\\CUDA\\v11.2` ingrese a `libnvvp`, copie y guarde la dirección:\n",
    "\n",
    "![Path libnvvp](images/libnvvp_path.png \"Path libnvvp\")\n",
    "\n",
    "Ingrese a Windows y escriba \"environment variables\":\n",
    "\n",
    "![Editar variables de ambiente](images/edit_environment_variables.png \"Editar variables de ambiente\")\n",
    "\n",
    "Haga clic en el icono y debiese aparecer la siguiente ventana:\n",
    "\n",
    "![Edición variables de ambiente](images/edit_var_pop_up.png \"Edición variables de ambiente\")\n",
    "\n",
    "En las variables de usuario elija editar **Path**:\n",
    "\n",
    "![Edición Path](images/edit_path.png \"Edición Path\")\n",
    "\n",
    "Haga clic en **New** y añada las rutas de `bin` y `libnvvp`\n",
    "\n",
    ">```C:\\Program Files\\NVIDIA GPU Computing Toolkit\\CUDA\\v11.2\\bin```\n",
    ">\n",
    ">```C:\\Program Files\\NVIDIA GPU Computing Toolkit\\CUDA\\v11.2\\libnvvp```\n",
    "\n",
    "Haga clic en **OK** y **¡¡REINICIE EL COMPUTADOR!!**."
   ]
  },
  {
   "attachments": {},
   "cell_type": "markdown",
   "metadata": {},
   "source": [
    "### 6. Instalar TensorFlow en un ambiente virtual\n",
    "\n",
    "----\n",
    "\n",
    "Para nuestro caso particular utilizamos pyenv pero cualquier otra herramienta para crear ambientes de Python sirve:\n",
    "\n",
    ">`pyenv install 3.8`\n",
    ">\n",
    ">`pyenv global 3.8`\n",
    "\n",
    "Instalamos nuestra versión de TensorFlow y JupyterLab para trabajar con Jupyter notebook:\n",
    ">`pip install tensorflow==2.10.0`\n",
    ">\n",
    ">`pip install jupyterlab ipykernel`\n",
    "\n",
    "Generamos un Jupyter notebook y ejecutamos lo siguiente para verificar que TensorFlow reconozca correctamente la GPU:"
   ]
  },
  {
   "cell_type": "code",
   "execution_count": 1,
   "metadata": {},
   "outputs": [
    {
     "ename": "ModuleNotFoundError",
     "evalue": "No module named 'tensorflow'",
     "output_type": "error",
     "traceback": [
      "\u001b[1;31m---------------------------------------------------------------------------\u001b[0m",
      "\u001b[1;31mModuleNotFoundError\u001b[0m                       Traceback (most recent call last)",
      "Cell \u001b[1;32mIn[1], line 1\u001b[0m\n\u001b[1;32m----> 1\u001b[0m \u001b[39mimport\u001b[39;00m \u001b[39mtensorflow\u001b[39;00m \u001b[39mas\u001b[39;00m \u001b[39mtf\u001b[39;00m\n\u001b[0;32m      2\u001b[0m \u001b[39mfrom\u001b[39;00m \u001b[39mtensorflow\u001b[39;00m\u001b[39m.\u001b[39;00m\u001b[39mpython\u001b[39;00m\u001b[39m.\u001b[39;00m\u001b[39mclient\u001b[39;00m \u001b[39mimport\u001b[39;00m device_lib\n\u001b[0;32m      5\u001b[0m \u001b[39mprint\u001b[39m(tf\u001b[39m.\u001b[39m__version__)\n",
      "\u001b[1;31mModuleNotFoundError\u001b[0m: No module named 'tensorflow'"
     ]
    }
   ],
   "source": [
    "import tensorflow as tf\n",
    "from tensorflow.python.client import device_lib\n",
    "\n",
    "\n",
    "print(tf.__version__)\n",
    "\n",
    "print(\"Num GPUs Available: \", len(tf.config.list_physical_devices('GPU')))\n",
    "device_lib.list_local_devices()"
   ]
  },
  {
   "attachments": {},
   "cell_type": "markdown",
   "metadata": {},
   "source": [
    "----\n",
    "\n",
    "## Referencias\n",
    "\n",
    "----\n",
    "\n",
    "* <https://www.tensorflow.org/>\n",
    "* <https://developer.nvidia.com/>\n",
    "* <https://github.com/aladdinpersson/Machine-Learning-Collection>\n",
    "* <https://www.youtube.com/watch?v=hHWkvEcDBO0&t>\n",
    "* <https://towardsdatascience.com/how-to-finally-install-tensorflow-gpu-on-windows-10-63527910f255>\n",
    "* <https://towardsdatascience.com/how-to-host-jupyter-notebook-slides-on-github-d785f30e6e2>\n",
    "* <https://pages.github.com/>\n",
    "* <https://rise.readthedocs.io/en/stable/>\n",
    "* <https://12ft.io/>"
   ]
  },
  {
   "attachments": {},
   "cell_type": "markdown",
   "metadata": {},
   "source": [
    "----\n",
    "\n",
    "## Agradecimientos\n",
    "\n",
    "----\n",
    "\n",
    "A [@aladdinpersson](https://github.com/aladdinpersson) y a su minucioso [video](https://www.youtube.com/watch?v=hHWkvEcDBO0&t) sobre como realizar la instalación el cual pese a estar desactualizado fue un valioso aporte en la realización de este recurso.\n",
    "\n",
    "----\n",
    "\n",
    "## Autores\n",
    "\n",
    "----\n",
    "\n",
    "* Domingo Benoit Cea\n",
    "\n",
    "### Contacto\n",
    "\n",
    "----\n",
    "Para contactarme sobre esta guía por favor añadir en el asunto:\n",
    "\n",
    "`[Guía Instalación TensorFlow con GPU]`\n",
    "\n",
    "Con dirección al siguiente email:\n",
    "\n",
    "> <domingo.benoit@sansano.usm.cl>\n",
    "\n",
    "Fecha creación: 31 de mayo del 2023"
   ]
  }
 ],
 "metadata": {
  "kernelspec": {
   "display_name": "Python 3",
   "language": "python",
   "name": "python3"
  },
  "language_info": {
   "codemirror_mode": {
    "name": "ipython",
    "version": 3
   },
   "file_extension": ".py",
   "mimetype": "text/x-python",
   "name": "python",
   "nbconvert_exporter": "python",
   "pygments_lexer": "ipython3",
   "version": "3.8.10"
  },
  "orig_nbformat": 4
 },
 "nbformat": 4,
 "nbformat_minor": 2
}
